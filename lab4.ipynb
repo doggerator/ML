{
  "cells": [
    {
      "cell_type": "markdown",
      "metadata": {
        "id": "view-in-github",
        "colab_type": "text"
      },
      "source": [
        "<a href=\"https://colab.research.google.com/github/doggerator/ML/blob/main/lab4.ipynb\" target=\"_parent\"><img src=\"https://colab.research.google.com/assets/colab-badge.svg\" alt=\"Open In Colab\"/></a>"
      ]
    },
    {
      "cell_type": "code",
      "execution_count": 11,
      "id": "d146eb16-ee8b-475a-bbbc-cf41d61703e5",
      "metadata": {
        "id": "d146eb16-ee8b-475a-bbbc-cf41d61703e5"
      },
      "outputs": [],
      "source": [
        "import numpy as np\n",
        "from matplotlib import pyplot as plt\n",
        "\n",
        "class Point_Generator():\n",
        "    def __init__(self, num_points: int, percent_outliers: float) -> None:\n",
        "        self.num_points = num_points\n",
        "        self.percent_outliers = percent_outliers\n",
        "        self.inliers_num = int(np.floor(self.num_points * (1 - self.percent_outliers)))\n",
        "        self.outliers_num = int(np.floor(self.num_points * self.percent_outliers))\n",
        "\n",
        "    def generate_case(self, k: float = 1., b: float = 0., eps: float = 0.1) -> np.ndarray:\n",
        "        \"\"\"Генерация точек выборки вместе с шумовыми для прямой y = kx + b + eps,\n",
        "        где eps - случайный шум.\n",
        "\n",
        "        Args:\n",
        "            k(float, optional): Параметр наклона прямой. Defaults to 1..\n",
        "            b(float, optional): Параметр сдвига прямой. Defaults to 0..\n",
        "            k(float, optional): Параметр разборса точек вдоль прямой. Defaults to 0.1..\n",
        "\n",
        "        Returns:\n",
        "            np.ndarray: Обучающая выборка\n",
        "        \"\"\"\n",
        "        if k is None:\n",
        "            k = np.random.uniform(-1, 1)\n",
        "        if b is None:\n",
        "            b = np.random.uniform(0, 5)\n",
        "\n",
        "        x = np.linspace(0, 10, self.inliers_num)\n",
        "        y = k * x + b + np.random.normal(scale=eps, size = len(x))\n",
        "        inliers = np.vstack((x,y)).T\n",
        "\n",
        "        x = np.random.uniform(0, 10, self.outliers_num)\n",
        "        y = np.random.uniform(y.min(), y.max(), self.outliers_num)\n",
        "        outliers = np.vstack((x,y)).T\n",
        "\n",
        "        data = np.concatenate((inliers, outliers))\n",
        "        np.random.shuffle(data)\n",
        "\n",
        "        # возвращаем x и y отдельно\n",
        "        return data.T[0], data.T[1]"
      ]
    },
    {
      "cell_type": "code",
      "execution_count": 12,
      "id": "f58b982e-ea13-4ac3-916d-ac2098084df0",
      "metadata": {
        "id": "f58b982e-ea13-4ac3-916d-ac2098084df0"
      },
      "outputs": [],
      "source": [
        "pgen = Point_Generator(100, 0.1)"
      ]
    },
    {
      "cell_type": "code",
      "execution_count": 13,
      "id": "9f4268e1-2435-4a05-9ac9-16bb2edb4c9e",
      "metadata": {
        "id": "9f4268e1-2435-4a05-9ac9-16bb2edb4c9e"
      },
      "outputs": [],
      "source": [
        "data = pgen.generate_case()"
      ]
    },
    {
      "cell_type": "code",
      "execution_count": 14,
      "id": "539a602f-c987-4fa1-a223-460e8d3a948e",
      "metadata": {
        "colab": {
          "base_uri": "https://localhost:8080/",
          "height": 176
        },
        "id": "539a602f-c987-4fa1-a223-460e8d3a948e",
        "outputId": "83927eec-1174-4df2-cd19-98824a644b43"
      },
      "outputs": [
        {
          "output_type": "error",
          "ename": "AttributeError",
          "evalue": "ignored",
          "traceback": [
            "\u001b[0;31m---------------------------------------------------------------------------\u001b[0m",
            "\u001b[0;31mAttributeError\u001b[0m                            Traceback (most recent call last)",
            "\u001b[0;32m<ipython-input-14-89293c7b6221>\u001b[0m in \u001b[0;36m<cell line: 1>\u001b[0;34m()\u001b[0m\n\u001b[0;32m----> 1\u001b[0;31m \u001b[0mplt\u001b[0m\u001b[0;34m.\u001b[0m\u001b[0mscatter\u001b[0m\u001b[0;34m(\u001b[0m\u001b[0mdata\u001b[0m\u001b[0;34m.\u001b[0m\u001b[0mT\u001b[0m\u001b[0;34m[\u001b[0m\u001b[0;36m0\u001b[0m\u001b[0;34m]\u001b[0m\u001b[0;34m,\u001b[0m \u001b[0mdata\u001b[0m\u001b[0;34m.\u001b[0m\u001b[0mT\u001b[0m\u001b[0;34m[\u001b[0m\u001b[0;36m1\u001b[0m\u001b[0;34m]\u001b[0m\u001b[0;34m)\u001b[0m\u001b[0;34m\u001b[0m\u001b[0;34m\u001b[0m\u001b[0m\n\u001b[0m",
            "\u001b[0;31mAttributeError\u001b[0m: 'tuple' object has no attribute 'T'"
          ]
        }
      ],
      "source": [
        "plt.scatter(data.T[0], data.T[1])"
      ]
    },
    {
      "cell_type": "code",
      "execution_count": null,
      "id": "c2564a34-7e6a-473e-bd3c-1c62cacdaa82",
      "metadata": {
        "id": "c2564a34-7e6a-473e-bd3c-1c62cacdaa82"
      },
      "outputs": [],
      "source": []
    }
  ],
  "metadata": {
    "kernelspec": {
      "display_name": "Python 3 (ipykernel)",
      "language": "python",
      "name": "python3"
    },
    "language_info": {
      "codemirror_mode": {
        "name": "ipython",
        "version": 3
      },
      "file_extension": ".py",
      "mimetype": "text/x-python",
      "name": "python",
      "nbconvert_exporter": "python",
      "pygments_lexer": "ipython3",
      "version": "3.9.15"
    },
    "colab": {
      "provenance": [],
      "include_colab_link": true
    }
  },
  "nbformat": 4,
  "nbformat_minor": 5
}